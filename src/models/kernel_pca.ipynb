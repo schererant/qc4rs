{
 "cells": [
  {
   "cell_type": "code",
   "execution_count": 1,
   "metadata": {},
   "outputs": [],
   "source": [
    "import pennylane.numpy as np\n",
    "import pennylane as qml\n",
    "from sklearn.svm import SVC\n",
    "import sklearn.decomposition as skd\n",
    "from scipy.io import loadmat\n",
    "from sklearn.model_selection import train_test_split\n",
    "from sklearn.preprocessing import StandardScaler\n",
    "from kernel_pca import *"
   ]
  },
  {
   "cell_type": "code",
   "execution_count": 3,
   "metadata": {},
   "outputs": [],
   "source": []
  },
  {
   "cell_type": "code",
   "execution_count": 5,
   "metadata": {},
   "outputs": [
    {
     "name": "stdout",
     "output_type": "stream",
     "text": [
      "[[1.    0.936 0.022 0.024 0.016 0.794 0.022 0.052 0.047 0.033]\n",
      " [0.936 1.    0.021 0.028 0.013 0.89  0.021 0.061 0.057 0.038]\n",
      " [0.022 0.021 1.    0.858 0.932 0.019 0.002 0.038 0.024 0.575]\n",
      " [0.024 0.028 0.858 1.    0.725 0.044 0.005 0.062 0.019 0.327]\n",
      " [0.016 0.013 0.932 0.725 1.    0.009 0.001 0.032 0.014 0.484]\n",
      " [0.794 0.89  0.019 0.044 0.009 1.    0.015 0.062 0.047 0.043]\n",
      " [0.022 0.021 0.002 0.005 0.001 0.015 1.    0.011 0.07  0.008]\n",
      " [0.052 0.061 0.038 0.062 0.032 0.062 0.011 1.    0.006 0.019]\n",
      " [0.047 0.057 0.024 0.019 0.014 0.047 0.07  0.006 1.    0.054]\n",
      " [0.033 0.038 0.575 0.327 0.484 0.043 0.008 0.019 0.054 1.   ]]\n"
     ]
    }
   ],
   "source": [
    "kernel.print_square_kernel_matrix(train_data)"
   ]
  },
  {
   "cell_type": "code",
   "execution_count": 1,
   "metadata": {},
   "outputs": [
    {
     "name": "stdout",
     "output_type": "stream",
     "text": [
      "SVM trained in 2.916 seconds\n",
      "SVM inference in 2.971 seconds\n",
      "The accuracy of the kernel with random parameters is 0.900\n",
      "The target alignment of the kernel with random parameters is 0.216\n",
      "Target alignment of the kernel with random parameters in 1.674 seconds\n"
     ]
    }
   ],
   "source": [
    "from kernel_pca import *\n",
    "\n",
    "dataset = Dataset(truncate=10)\n",
    "kernel = Kernel(num_layers=6, num_wires=5)\n",
    "classifier = Classifier(kernel, dataset)\n",
    "classifier.train(report=False)\n",
    "# train(features=train_data, labels=train_labels, Kernel=kernel, num_layers=6, report=True)\n",
    "classifier.evaluate_kernel_target_alignment()"
   ]
  },
  {
   "cell_type": "code",
   "execution_count": 3,
   "metadata": {},
   "outputs": [
    {
     "name": "stdout",
     "output_type": "stream",
     "text": [
      "[-1  1 -1 -1 -1]\n",
      "Parameter initialized\n",
      "SVM trained in 0.273 seconds\n",
      "SVM inference in 0.367 seconds\n",
      "The accuracy of the kernel with random parameters is 0.800\n",
      "The target alignment of the kernel with random parameters is 0.269\n",
      "Target alignment of the kernel with random parameters in 0.151 seconds\n",
      "Subset selection in 0.000 seconds\n",
      "Cost function definition in 0.000 seconds\n",
      "(6, 2, 5)\n",
      "Optimization step in 14.764 seconds\n",
      "Subset selection in 0.000 seconds\n",
      "Cost function definition in 0.000 seconds\n",
      "(6, 2, 5)\n",
      "Optimization step in 14.883 seconds\n",
      "Subset selection in 0.000 seconds\n",
      "Cost function definition in 0.000 seconds\n",
      "(6, 2, 5)\n"
     ]
    }
   ],
   "source": [
    "from kernel_pca import *\n",
    "\n",
    "dataset = Dataset(truncate=10)\n",
    "kernel = Kernel(num_layers=6, num_wires=5)\n",
    "classifier = Classifier(kernel, dataset)\n",
    "classifier.train(report=False)\n",
    "# train(features=train_data, labels=train_labels, Kernel=kernel, num_layers=6, report=True)\n",
    "classifier.evaluate_kernel_target_alignment()\n",
    "# classifier.train_target_alignment()"
   ]
  },
  {
   "cell_type": "code",
   "execution_count": 1,
   "metadata": {},
   "outputs": [
    {
     "name": "stdout",
     "output_type": "stream",
     "text": [
      "SVM trained in 1.038 seconds\n",
      "SVM inference in 0.996 seconds\n",
      "The accuracy of the kernel with random parameters is 0.900\n",
      "SVM trained in 4.169 seconds\n"
     ]
    }
   ],
   "source": [
    "from kernel_pca import *\n",
    "train_data = {'samples': [], 'train': [], 'predict': [], 'accuracy': []}\n",
    "for i in range(10, 100, 10):\n",
    "    dataset = Dataset(truncate=i)\n",
    "    kernel = Kernel(num_layers=6, num_wires=5)\n",
    "    classifier = Classifier(kernel, dataset)\n",
    "    report = classifier.train(report=False)\n",
    "    train_data['samples'].append(report['samples'])\n",
    "    train_data['train'].append(report['train'])\n",
    "    train_data['predict'].append(report['predict'])\n",
    "    train_data['accuracy'].append(report['accuracy'])\n"
   ]
  },
  {
   "cell_type": "code",
   "execution_count": 6,
   "metadata": {},
   "outputs": [
    {
     "data": {
      "image/png": "[encoded data removed]",
      "text/plain": [
       "<Figure size 432x288 with 1 Axes>"
      ]
     },
     "metadata": {
      "needs_background": "light"
     },
     "output_type": "display_data"
    }
   ],
   "source": [
    "# plot results \n",
    "import matplotlib.pyplot as plt\n",
    "plt.plot(train_data['samples'], train_data['train'], label='train')\n",
    "plt.plot(train_data['samples'], train_data['predict'], label='predict')\n",
    "plt.title('Training time vs. sample size')\n",
    "plt.xlabel('sample size')\n",
    "plt.ylabel('training time (s)')\n",
    "\n",
    "plt.legend()\n",
    "plt.show()"
   ]
  },
  {
   "cell_type": "code",
   "execution_count": 5,
   "metadata": {},
   "outputs": [
    {
     "data": {
      "image/png": "[encoded data removed]",
      "text/plain": [
       "<Figure size 432x288 with 1 Axes>"
      ]
     },
     "metadata": {
      "needs_background": "light"
     },
     "output_type": "display_data"
    }
   ],
   "source": [
    "plt.plot(train_data['samples'], train_data['accuracy'], label='accuracy')\n",
    "plt.show()"
   ]
  },
  {
   "cell_type": "code",
   "execution_count": 6,
   "metadata": {},
   "outputs": [
    {
     "name": "stdout",
     "output_type": "stream",
     "text": [
      "[[1 2 3]\n",
      " [1 2 3]\n",
      " [1 2 3]]\n",
      "[[14 14 14]\n",
      " [14 14 14]\n",
      " [14 14 14]]\n"
     ]
    }
   ],
   "source": [
    "arr1 = np.array([[1,2,3], [1,2,3], [1,2,3]])\n",
    "arr2 = np.array([[1,2,3], [1,2,3], [1,2,3]])\n",
    "print(arr1)\n",
    "\n",
    "print(np.dot(arr1, arr2.T))"
   ]
  },
  {
   "cell_type": "code",
   "execution_count": 6,
   "metadata": {},
   "outputs": [],
   "source": [
    "labels = np.array([0,2,0,0])\n",
    "labels[labels==0] = -1\n",
    "labels[labels>0] = 1"
   ]
  },
  {
   "cell_type": "code",
   "execution_count": 12,
   "metadata": {},
   "outputs": [],
   "source": [
    "# Drop out 0 labels for training\n",
    "train_data = dataset.train_data[dataset.train_labels != 0]\n",
    "train_labels = dataset.train_labels[dataset.train_labels != 0]\n",
    "\n",
    "test_data = dataset.test_data[dataset.test_labels != 0]\n",
    "test_labels = dataset.test_labels[dataset.test_labels != 0]\n"
   ]
  },
  {
   "cell_type": "code",
   "execution_count": null,
   "metadata": {},
   "outputs": [],
   "source": []
  },
  {
   "cell_type": "code",
   "execution_count": 2,
   "metadata": {},
   "outputs": [
    {
     "name": "stdout",
     "output_type": "stream",
     "text": [
      "0.8\n"
     ]
    }
   ],
   "source": [
    "import pennylane.numpy as np\n",
    "import pennylane as qml\n",
    "from sklearn.svm import SVC\n",
    "import sklearn.decomposition as skd\n",
    "from kernel_pca import *\n",
    "\n",
    "dataset = Dataset(truncate=10, binary=False)\n",
    "kernel = Kernel(num_layers=6, num_wires=5)\n",
    "kernel_matrix = kernel.get_square_kernel_matrix(train_data)\n",
    "model = SVC(kernel='precomputed')\n",
    "model.fit(kernel_matrix, train_labels)\n",
    "\n",
    "kernel_matrix_test = kernel.get_square_kernel_matrix(dataset.test_data)\n",
    "predictions = model.predict(kernel_matrix_test)\n",
    "accuracy_init = 1 - np.count_nonzero(predictions - dataset.test_labels) / len(dataset.test_labels)\n",
    "print(accuracy_init)"
   ]
  },
  {
   "cell_type": "code",
   "execution_count": 2,
   "metadata": {},
   "outputs": [
    {
     "ename": "NameError",
     "evalue": "name 'train_data' is not defined",
     "output_type": "error",
     "traceback": [
      "\u001b[0;31m---------------------------------------------------------------------------\u001b[0m",
      "\u001b[0;31mNameError\u001b[0m                                 Traceback (most recent call last)",
      "\u001b[1;32m/Users/anani/Code/master-thesis/code/src/models/kernel_pca.ipynb Cell 14\u001b[0m in \u001b[0;36m<cell line: 5>\u001b[0;34m()\u001b[0m\n\u001b[1;32m      <a href='vscode-notebook-cell:/Users/anani/Code/master-thesis/code/src/models/kernel_pca.ipynb#X16sZmlsZQ%3D%3D?line=2'>3</a>\u001b[0m dataset \u001b[39m=\u001b[39m Dataset(truncate\u001b[39m=\u001b[39m\u001b[39m1000\u001b[39m, binary\u001b[39m=\u001b[39m\u001b[39mFalse\u001b[39;00m)\n\u001b[1;32m      <a href='vscode-notebook-cell:/Users/anani/Code/master-thesis/code/src/models/kernel_pca.ipynb#X16sZmlsZQ%3D%3D?line=3'>4</a>\u001b[0m \u001b[39m#Classical implementaiton\u001b[39;00m\n\u001b[0;32m----> <a href='vscode-notebook-cell:/Users/anani/Code/master-thesis/code/src/models/kernel_pca.ipynb#X16sZmlsZQ%3D%3D?line=4'>5</a>\u001b[0m kernel_matrix_train \u001b[39m=\u001b[39m np\u001b[39m.\u001b[39mdot(train_data, train_data\u001b[39m.\u001b[39mT)\n\u001b[1;32m      <a href='vscode-notebook-cell:/Users/anani/Code/master-thesis/code/src/models/kernel_pca.ipynb#X16sZmlsZQ%3D%3D?line=5'>6</a>\u001b[0m model \u001b[39m=\u001b[39m SVC(kernel\u001b[39m=\u001b[39m\u001b[39m'\u001b[39m\u001b[39mprecomputed\u001b[39m\u001b[39m'\u001b[39m)\n\u001b[1;32m      <a href='vscode-notebook-cell:/Users/anani/Code/master-thesis/code/src/models/kernel_pca.ipynb#X16sZmlsZQ%3D%3D?line=6'>7</a>\u001b[0m model\u001b[39m.\u001b[39mfit(kernel_matrix_train, train_labels)\n",
      "\u001b[0;31mNameError\u001b[0m: name 'train_data' is not defined"
     ]
    }
   ],
   "source": [
    "from kernel_pca import *\n",
    "\n",
    "dataset = Dataset(truncate=1000, binary=False)\n",
    "#Classical implementaiton\n",
    "kernel_matrix_train = np.dot(train_data, train_data.T)\n",
    "model = SVC(kernel='precomputed')\n",
    "model.fit(kernel_matrix_train, train_labels)\n",
    "predictions = model.predict(kernel_matrix_train)\n",
    "accuracy_init = 1 - np.count_nonzero(predictions - train_labels) / len(train_labels)\n",
    "print(classification_report(train_labels, predictions))\n",
    "print(accuracy_init)\n",
    "\n",
    "test_data = test_data\n",
    "test_labels = test_labels\n",
    "\n",
    "kernel_matrix_test = np.dot(test_data, train_data.T)\n",
    "predictions = model.predict(kernel_matrix_test)\n",
    "# classification_report(dataset.test_labels, predictions)\n",
    "accuracy_init = 1 - np.count_nonzero(predictions - test_labels) / len(test_labels)\n",
    "print(accuracy_init)"
   ]
  },
  {
   "cell_type": "code",
   "execution_count": 7,
   "metadata": {},
   "outputs": [
    {
     "name": "stdout",
     "output_type": "stream",
     "text": [
      "[0 2 0 0 0 0 0 0 0 0 3 0 0 2 0 1 3 0 0 0 0 0 0 0 0 0 0 0 0 0 0 1 3 0 0 0 8\n",
      " 4 0 0 0 0 0 0 0 0 0 0 0 0 0 7 0 0 0 0 2 0 2 0 0 0 0 0 0 0 0 2 0 0 0 0 0 0\n",
      " 0 3 0 4 2 0 1 0 0 0 0 0 8 0 0 0 2 0 2 0 0 4 0 0 0 0 2 4 0 0 0 0 0 0 0 0 0\n",
      " 0 0 2 1 0 0 0 0 0 0 0 0 0 0 0 0 0 0 0 1 2 0 0 0 0 0 0 0 0 0 2 0 0 0 0 0 0\n",
      " 0 2 0 0 0 0 0 0 0 0 0 0 0 0 0 0 2 0 0 2 0 2 0 2 0 0 3 0 0 0 0 2 1 0 8 0 8\n",
      " 0 0 2 0 0 0 6 0 0 0 0 5 0 0 0 0 0 8 0 4 0 0 0 0 0 0 0 0 0 0 0 0 0 0 0 2 0\n",
      " 0 8 0 0 0 0 3 0 0 0 0 1 2 0 0 0 0 2 0 0 0 0 9 8 0 0 0 7 0 1 2 0 8 0 0 0 0\n",
      " 0 0 0 0 0 0 0 0 2 0 0 0 6 0 0 6 0 0 0 0 2 0 0 0 0 0 0 0 0 0 8 1 0 0 8 0 0\n",
      " 0 0 0 0 0 0 0 0 0 2 2 2 0 0 0 0 3 0 0 0 0 0 2 6 2 0 0 0 0 0 0 0 0 0 0 0 0\n",
      " 0 0 0 0 0 0 0 0 2 0 1 6 0 2 1 0 0 0 0 0 4 0 0 2 0 2 0 0 0 2 0 1 3 0 0 2 0\n",
      " 0 0 0 0 0 0 0 0 0 0 2 0 0 0 0 0 0 0 0 0 5 0 0 1 0 7 0 0 0 0 0 0 0 0 0 4 0\n",
      " 0 0 0 0 0 6 0 0 0 9 0 0 0 0 0 0 0 0 0 0 1 0 0 0 0 0 0 0 0 0 6 0 0 6 0 0 0\n",
      " 0 0 0 0 0 0 0 0 0 0 0 1 0 0 0 0 0 0 0 0 0 0 0 4 0 0 0 0 6 0 9 0 2 0 0 0 5\n",
      " 0 2 0 1 0 2 0 0 0 0 0 2 3 0 0 0 0 0 0 2 0 0 0 0 4 6 2 1 1 0 0 0 0 0 0 0 0\n",
      " 0 0 2 0 2 0 0 0 0 0 2 0 0 2 0 7 0 2 6 6 0 5 0 0 0 2 0 0 0 2 2 8 0 0 0 0 0\n",
      " 2 0 0 0 0 0 0 0 0 0 0 0 0 0 0 0 0 0 0 0 0 0 0 0 0 2 0 0 0 0 0 2 0 2 0 0 0\n",
      " 0 0 0 6 0 0 0 0 0 0 0 0 0 0 0 0 0 0 0 0 0 0 0 0 0 0 0 1 0 2 0 0 0 0 0 0 0\n",
      " 0 0 0 2 0 8 0 0 0 1 0 2 0 2 0 0 0 0 0 0 0 2 0 2 0 0 0 0 0 0 0 0 3 0 0 0 0\n",
      " 2 0 0 0 6 0 0 0 0 0 0 2 0 0 0 2 0 0 0 0 0 0 0 0 0 0 0 0 0 0 0 0 0 0 3 0 3\n",
      " 0 0 0 0 2 2 0 0 0 0 1 0 0 0 0 0 0 8 0 0 0 4 0 8 1 0 0 8 0 0 0 0 2 0 0 0 0\n",
      " 4 0 0 4 0 0 0 0 2 0 0 0 0 2 2 0 0 0 0 8 0 1 0 0 0 0 0 0 0 0 0 0 0 0 0 0 0\n",
      " 0 0 0 0 6 0 0 0 0 3 2 0 0 0 0 0 0 0 0 0 0 2 0 0 2 0 0 0 0 0 0 2 0 0 0 0 0\n",
      " 0 0 0 0 0 0 0 2 0 0 2 0 0 0 0 0 0 0 0 0 0 1 0 0 0 0 0 0 0 0 0 5 0 0 0 0 0\n",
      " 5 0 0 0 0 0 0 0 0 0 0 2 8 0 2 0 0 0 0 4 0 0 2 0 0 0 0 0 0 2 7 0 0 0 0 0 0\n",
      " 0 0 0 0 0 0 0 0 0 0 0 0 0 0 0 0 0 0 0 0 0 0 0 3 0 2 2 8 0 4 6 4 0 0 8 0 0\n",
      " 0 2 0 0 0 0 0 0 1 0 0 2 0 3 4 0 0 2 0 0 0 0 0 2 0 0 0 1 0 0 0 3 0 0 0 0 0\n",
      " 0 0 0 0 0 2 0 6 0 0 0 0 6 2 0 0 0 0 0 3 0 0 0 0 0 0 0 8 0 0 0 0 0 0 0 0 0\n",
      " 0]\n"
     ]
    }
   ],
   "source": [
    "print(dataset.train_labels)"
   ]
  },
  {
   "cell_type": "code",
   "execution_count": null,
   "metadata": {},
   "outputs": [],
   "source": []
  }
 ],
 "metadata": {
  "kernelspec": {
   "display_name": "Python 3.9.13 ('qc4rs')",
   "language": "python",
   "name": "python3"
  },
  "language_info": {
   "codemirror_mode": {
    "name": "ipython",
    "version": 3
   },
   "file_extension": ".py",
   "mimetype": "text/x-python",
   "name": "python",
   "nbconvert_exporter": "python",
   "pygments_lexer": "ipython3",
   "version": "3.9.13"
  },
  "orig_nbformat": 4,
  "vscode": {
   "interpreter": {
    "hash": "058c412d2185494a0ef6a033638010b3d9d5f5e8ee51f2c4e44f0472f9f04685"
   }
  }
 },
 "nbformat": 4,
 "nbformat_minor": 2
}
